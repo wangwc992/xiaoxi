{
 "cells": [
  {
   "cell_type": "code",
   "execution_count": null,
   "id": "initial_id",
   "metadata": {
    "collapsed": true
   },
   "outputs": [],
   "source": [
    ""
   ]
  },
  {
   "metadata": {
    "ExecuteTime": {
     "end_time": "2024-05-19T07:38:03.003887Z",
     "start_time": "2024-05-19T07:38:00.141147Z"
    }
   },
   "cell_type": "code",
   "source": [
    "from langchain_community.chat_models import QianfanChatEndpoint\n",
    "from langchain_core.runnables import ConfigurableField\n",
    "from langchain_openai import ChatOpenAI\n",
    "from dotenv import find_dotenv\n",
    "from langchain_community.embeddings import HuggingFaceEmbeddings\n",
    "from langfuse.decorators import langfuse_context\n",
    "from transformers import pipeline\n",
    "from transformers import AutoTokenizer, AutoModelForSequenceClassification\n",
    "from dotenv import load_dotenv\n",
    "import os\n",
    "\n",
    "# 初始化 ERNIE 模型\n",
    "ernie_model = QianfanChatEndpoint(\n",
    "    qianfan_ak='nhW0x9Tocm3ZvyhldiBw6gen',\n",
    "    qianfan_sk='DS9MyuRcxcyn5fCUyFUqBkvs7ksYxTuX',\n",
    "    model='ERNIE-3.5-8K'\n",
    ")\n",
    "\n",
    "# 初始化 GPT 模型（默认是 GPT-3.5-Turbo）\n",
    "gpt_model = ChatOpenAI(model=\"gpt-3.5-turbo\")  # 确保 OPENAI_MODEL_NAME 定义为 \"gpt-3.5-turbo\"\n",
    "\n",
    "# 配置模型选择逻辑，默认使用 ERNIE 模型\n",
    "llm = gpt_model.configurable_alternatives(\n",
    "    ConfigurableField(id=\"llm\"),\n",
    "    default_key=\"ernie_model\",\n",
    "    ernie=ernie_model\n",
    "    # 其他模型可以类似添加，例如 claude=claude_model\n",
    ")\n",
    "\n",
    "class ModelInvoker:\n",
    "    def __init__(self, llm):\n",
    "        self.llm = llm\n",
    "\n",
    "    def invoke_with_handler(self, input):\n",
    "        langfuse_handler = langfuse_context.get_current_langchain_handler()\n",
    "        ai_message = self.llm.invoke(input=input, config={\"callbacks\": [langfuse_handler], \"llm\": \"ernie\"})\n",
    "        return ai_message\n",
    "\n",
    "# 创建 ModelInvoker 实例\n",
    "invoker = ModelInvoker(llm)\n",
    "\n",
    "# 示例输入\n",
    "input_text = \"介绍你自己，包括你的生产商。\"\n",
    "\n",
    "# 调用 ERNIE 模型生成回复\n",
    "response = invoker.invoke_with_handler(input_text)\n",
    "print(response)\n"
   ],
   "id": "f2e21303ac2cb001",
   "outputs": [
    {
     "ename": "IndexError",
     "evalue": "list index out of range",
     "output_type": "error",
     "traceback": [
      "\u001B[1;31m---------------------------------------------------------------------------\u001B[0m",
      "\u001B[1;31mIndexError\u001B[0m                                Traceback (most recent call last)",
      "Cell \u001B[1;32mIn[3], line 46\u001B[0m\n\u001B[0;32m     43\u001B[0m input_text \u001B[38;5;241m=\u001B[39m \u001B[38;5;124m\"\u001B[39m\u001B[38;5;124m介绍你自己，包括你的生产商。\u001B[39m\u001B[38;5;124m\"\u001B[39m\n\u001B[0;32m     45\u001B[0m \u001B[38;5;66;03m# 调用 ERNIE 模型生成回复\u001B[39;00m\n\u001B[1;32m---> 46\u001B[0m response \u001B[38;5;241m=\u001B[39m \u001B[43minvoker\u001B[49m\u001B[38;5;241;43m.\u001B[39;49m\u001B[43minvoke_with_handler\u001B[49m\u001B[43m(\u001B[49m\u001B[43minput_text\u001B[49m\u001B[43m)\u001B[49m\n\u001B[0;32m     47\u001B[0m \u001B[38;5;28mprint\u001B[39m(response)\n",
      "Cell \u001B[1;32mIn[3], line 35\u001B[0m, in \u001B[0;36mModelInvoker.invoke_with_handler\u001B[1;34m(self, input)\u001B[0m\n\u001B[0;32m     34\u001B[0m \u001B[38;5;28;01mdef\u001B[39;00m \u001B[38;5;21minvoke_with_handler\u001B[39m(\u001B[38;5;28mself\u001B[39m, \u001B[38;5;28minput\u001B[39m):\n\u001B[1;32m---> 35\u001B[0m     langfuse_handler \u001B[38;5;241m=\u001B[39m \u001B[43mlangfuse_context\u001B[49m\u001B[38;5;241;43m.\u001B[39;49m\u001B[43mget_current_langchain_handler\u001B[49m\u001B[43m(\u001B[49m\u001B[43m)\u001B[49m\n\u001B[0;32m     36\u001B[0m     ai_message \u001B[38;5;241m=\u001B[39m \u001B[38;5;28mself\u001B[39m\u001B[38;5;241m.\u001B[39mllm\u001B[38;5;241m.\u001B[39minvoke(\u001B[38;5;28minput\u001B[39m\u001B[38;5;241m=\u001B[39m\u001B[38;5;28minput\u001B[39m, config\u001B[38;5;241m=\u001B[39m{\u001B[38;5;124m\"\u001B[39m\u001B[38;5;124mcallbacks\u001B[39m\u001B[38;5;124m\"\u001B[39m: [langfuse_handler], \u001B[38;5;124m\"\u001B[39m\u001B[38;5;124mllm\u001B[39m\u001B[38;5;124m\"\u001B[39m: \u001B[38;5;124m\"\u001B[39m\u001B[38;5;124mernie\u001B[39m\u001B[38;5;124m\"\u001B[39m})\n\u001B[0;32m     37\u001B[0m     \u001B[38;5;28;01mreturn\u001B[39;00m ai_message\n",
      "File \u001B[1;32mD:\\Developments\\Python\\Python311\\Lib\\site-packages\\langfuse\\decorators\\langfuse_decorator.py:531\u001B[0m, in \u001B[0;36mLangfuseDecorator.get_current_langchain_handler\u001B[1;34m(self)\u001B[0m\n\u001B[0;32m    516\u001B[0m \u001B[38;5;28;01mdef\u001B[39;00m \u001B[38;5;21mget_current_langchain_handler\u001B[39m(\u001B[38;5;28mself\u001B[39m):\n\u001B[0;32m    517\u001B[0m \u001B[38;5;250m    \u001B[39m\u001B[38;5;124;03m\"\"\"Retrieve the current LangchainCallbackHandler associated with the most recent observation in the observation stack.\u001B[39;00m\n\u001B[0;32m    518\u001B[0m \n\u001B[0;32m    519\u001B[0m \u001B[38;5;124;03m    This method fetches the current observation from the observation stack and returns a LangchainCallbackHandler initialized with this observation.\u001B[39;00m\n\u001B[1;32m   (...)\u001B[0m\n\u001B[0;32m    529\u001B[0m \u001B[38;5;124;03m        - If no observation is found in the current context (e.g., if called outside of a trace or if the observation stack is empty), the method logs a warning and returns None.\u001B[39;00m\n\u001B[0;32m    530\u001B[0m \u001B[38;5;124;03m    \"\"\"\u001B[39;00m\n\u001B[1;32m--> 531\u001B[0m     observation \u001B[38;5;241m=\u001B[39m \u001B[43m_observation_stack_context\u001B[49m\u001B[38;5;241;43m.\u001B[39;49m\u001B[43mget\u001B[49m\u001B[43m(\u001B[49m\u001B[43m)\u001B[49m\u001B[43m[\u001B[49m\u001B[38;5;241;43m-\u001B[39;49m\u001B[38;5;241;43m1\u001B[39;49m\u001B[43m]\u001B[49m\n\u001B[0;32m    533\u001B[0m     \u001B[38;5;28;01mif\u001B[39;00m observation \u001B[38;5;129;01mis\u001B[39;00m \u001B[38;5;28;01mNone\u001B[39;00m:\n\u001B[0;32m    534\u001B[0m         \u001B[38;5;28mself\u001B[39m\u001B[38;5;241m.\u001B[39m_log\u001B[38;5;241m.\u001B[39mwarn(\u001B[38;5;124m\"\u001B[39m\u001B[38;5;124mNo observation found in the current context\u001B[39m\u001B[38;5;124m\"\u001B[39m)\n",
      "\u001B[1;31mIndexError\u001B[0m: list index out of range"
     ]
    }
   ],
   "execution_count": 3
  }
 ],
 "metadata": {
  "kernelspec": {
   "display_name": "Python 3",
   "language": "python",
   "name": "python3"
  },
  "language_info": {
   "codemirror_mode": {
    "name": "ipython",
    "version": 2
   },
   "file_extension": ".py",
   "mimetype": "text/x-python",
   "name": "python",
   "nbconvert_exporter": "python",
   "pygments_lexer": "ipython2",
   "version": "2.7.6"
  }
 },
 "nbformat": 4,
 "nbformat_minor": 5
}
